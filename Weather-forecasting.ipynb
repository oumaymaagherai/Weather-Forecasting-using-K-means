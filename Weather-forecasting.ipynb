{
 "cells": [
  {
   "cell_type": "code",
   "execution_count": 259,
   "id": "d88de40f",
   "metadata": {},
   "outputs": [],
   "source": [
    "from Kmeans import Kmeans\n",
    "import pandas as pd\n",
    "import numpy as np"
   ]
  },
  {
   "cell_type": "code",
   "execution_count": 260,
   "id": "62274f21",
   "metadata": {},
   "outputs": [
    {
     "data": {
      "text/html": [
       "<div>\n",
       "<style scoped>\n",
       "    .dataframe tbody tr th:only-of-type {\n",
       "        vertical-align: middle;\n",
       "    }\n",
       "\n",
       "    .dataframe tbody tr th {\n",
       "        vertical-align: top;\n",
       "    }\n",
       "\n",
       "    .dataframe thead th {\n",
       "        text-align: right;\n",
       "    }\n",
       "</style>\n",
       "<table border=\"1\" class=\"dataframe\">\n",
       "  <thead>\n",
       "    <tr style=\"text-align: right;\">\n",
       "      <th></th>\n",
       "      <th>CO2</th>\n",
       "      <th>RPM</th>\n",
       "      <th>SO2</th>\n",
       "      <th>Nox</th>\n",
       "    </tr>\n",
       "  </thead>\n",
       "  <tbody>\n",
       "    <tr>\n",
       "      <th>count</th>\n",
       "      <td>500.000000</td>\n",
       "      <td>500.000000</td>\n",
       "      <td>500.000000</td>\n",
       "      <td>500.000000</td>\n",
       "    </tr>\n",
       "    <tr>\n",
       "      <th>mean</th>\n",
       "      <td>225.718000</td>\n",
       "      <td>109.298000</td>\n",
       "      <td>8.084000</td>\n",
       "      <td>70.146000</td>\n",
       "    </tr>\n",
       "    <tr>\n",
       "      <th>std</th>\n",
       "      <td>117.910289</td>\n",
       "      <td>66.196777</td>\n",
       "      <td>2.904103</td>\n",
       "      <td>26.471384</td>\n",
       "    </tr>\n",
       "    <tr>\n",
       "      <th>min</th>\n",
       "      <td>1.000000</td>\n",
       "      <td>21.000000</td>\n",
       "      <td>4.000000</td>\n",
       "      <td>27.000000</td>\n",
       "    </tr>\n",
       "    <tr>\n",
       "      <th>25%</th>\n",
       "      <td>104.000000</td>\n",
       "      <td>40.750000</td>\n",
       "      <td>5.000000</td>\n",
       "      <td>46.000000</td>\n",
       "    </tr>\n",
       "    <tr>\n",
       "      <th>50%</th>\n",
       "      <td>235.500000</td>\n",
       "      <td>109.500000</td>\n",
       "      <td>8.000000</td>\n",
       "      <td>67.000000</td>\n",
       "    </tr>\n",
       "    <tr>\n",
       "      <th>75%</th>\n",
       "      <td>328.000000</td>\n",
       "      <td>166.500000</td>\n",
       "      <td>10.000000</td>\n",
       "      <td>94.000000</td>\n",
       "    </tr>\n",
       "    <tr>\n",
       "      <th>max</th>\n",
       "      <td>511.000000</td>\n",
       "      <td>289.000000</td>\n",
       "      <td>20.000000</td>\n",
       "      <td>142.000000</td>\n",
       "    </tr>\n",
       "  </tbody>\n",
       "</table>\n",
       "</div>"
      ],
      "text/plain": [
       "              CO2         RPM         SO2         Nox\n",
       "count  500.000000  500.000000  500.000000  500.000000\n",
       "mean   225.718000  109.298000    8.084000   70.146000\n",
       "std    117.910289   66.196777    2.904103   26.471384\n",
       "min      1.000000   21.000000    4.000000   27.000000\n",
       "25%    104.000000   40.750000    5.000000   46.000000\n",
       "50%    235.500000  109.500000    8.000000   67.000000\n",
       "75%    328.000000  166.500000   10.000000   94.000000\n",
       "max    511.000000  289.000000   20.000000  142.000000"
      ]
     },
     "execution_count": 260,
     "metadata": {},
     "output_type": "execute_result"
    }
   ],
   "source": [
    "dataset=pd.read_csv('original air pollution data.csv')\n",
    "X = dataset.iloc[:, [0, 1,2,3]].values\n",
    "dataset.describe()"
   ]
  },
  {
   "cell_type": "code",
   "execution_count": 261,
   "id": "11467548",
   "metadata": {},
   "outputs": [],
   "source": [
    "k=4\n",
    "kmeans= Kmeans(X,k)\n",
    "kmeans.fit(100)\n",
    "Output,cluster_centers_ = kmeans.predict()"
   ]
  },
  {
   "cell_type": "code",
   "execution_count": 262,
   "id": "73b56d21",
   "metadata": {},
   "outputs": [
    {
     "data": {
      "text/plain": [
       "array([[219, 100,   7,  65],\n",
       "       [297, 148,   9,  89],\n",
       "       [ 98,  39,   5,  43],\n",
       "       [384, 199,  11, 102]], dtype=int64)"
      ]
     },
     "execution_count": 262,
     "metadata": {},
     "output_type": "execute_result"
    }
   ],
   "source": [
    "cluster_centers_"
   ]
  },
  {
   "cell_type": "code",
   "execution_count": 263,
   "id": "ac82a209",
   "metadata": {},
   "outputs": [
    {
     "name": "stdout",
     "output_type": "stream",
     "text": [
      "['Cluster    ', '    Catégorie']\n",
      "['Cluster N°0', 'chaud, smog et pluie acide']\n",
      "['Cluster N°1', 'chaud, smog et pluie acide']\n",
      "['Cluster N°2', 'chaud, smog et pluie acide']\n",
      "['Cluster N°3', 'chaud, smog et pluie acide']\n"
     ]
    }
   ],
   "source": [
    "CategoriesClusters=[[\"Cluster    \",\"    Catégorie\"]]\n",
    "for k in range(len(cluster_centers_)):\n",
    "    C=np.argmax(cluster_centers_[:,k],axis=0)\n",
    "    if C==0 :\n",
    "        categorie=\"chaud, smog et humide\"\n",
    "    if C==1 :\n",
    "        categorie=\"poussiéreux, cendres volantes, enfumé, brouillard et  brume\"\n",
    "    if C==2 :\n",
    "        categorie =\"chaud, sec et  smog\"\n",
    "    if C==3 :\n",
    "        categorie =\"chaud, smog et pluie acide\"\n",
    "    CategoriesClusters.append([\"Cluster N°\"+str(k),categorie])\n",
    "\n",
    "for ligne in CategoriesClusters :\n",
    "    print(ligne)"
   ]
  },
  {
   "cell_type": "code",
   "execution_count": 255,
   "id": "88ea1610",
   "metadata": {},
   "outputs": [
    {
     "data": {
      "text/plain": [
       "93"
      ]
     },
     "execution_count": 255,
     "metadata": {},
     "output_type": "execute_result"
    }
   ],
   "source": [
    "len(Output[1])"
   ]
  },
  {
   "cell_type": "code",
   "execution_count": 256,
   "id": "8e9c62d8",
   "metadata": {},
   "outputs": [
    {
     "data": {
      "text/plain": [
       "201"
      ]
     },
     "execution_count": 256,
     "metadata": {},
     "output_type": "execute_result"
    }
   ],
   "source": [
    "len(Output[2])"
   ]
  },
  {
   "cell_type": "code",
   "execution_count": 257,
   "id": "850d26b3",
   "metadata": {},
   "outputs": [
    {
     "data": {
      "text/plain": [
       "106"
      ]
     },
     "execution_count": 257,
     "metadata": {},
     "output_type": "execute_result"
    }
   ],
   "source": [
    "len(Output[4])"
   ]
  },
  {
   "cell_type": "code",
   "execution_count": 258,
   "id": "92ba8ac6",
   "metadata": {},
   "outputs": [
    {
     "data": {
      "text/plain": [
       "100"
      ]
     },
     "execution_count": 258,
     "metadata": {},
     "output_type": "execute_result"
    }
   ],
   "source": [
    "len(Output[3])"
   ]
  },
  {
   "cell_type": "code",
   "execution_count": 264,
   "id": "5c34dfa6",
   "metadata": {},
   "outputs": [],
   "source": [
    "def MindistanceManhaten(NewLigne,Centers):\n",
    "    ManhatenDistance=np.array([]).reshape(1,0)\n",
    "    for k in range(len(Centers)):\n",
    "        tempDist=np.sum(abs(NewLigne-Centers[:,k]),axis=0)\n",
    "        ManhatenDistance=np.c_[ManhatenDistance,tempDist]\n",
    "    return np.argmin(ManhatenDistance,axis=1)"
   ]
  },
  {
   "cell_type": "code",
   "execution_count": null,
   "id": "98cb11ab",
   "metadata": {},
   "outputs": [],
   "source": []
  },
  {
   "cell_type": "code",
   "execution_count": 265,
   "id": "c285cc8b",
   "metadata": {},
   "outputs": [
    {
     "data": {
      "text/plain": [
       "array([[228, 109,   8,  58],\n",
       "       [198,  89,   7,  58],\n",
       "       [245, 120,   8,  64],\n",
       "       [300, 144,  11,  91],\n",
       "       [316, 149,  11,  93],\n",
       "       [283, 133,  10,  84],\n",
       "       [285, 151,   9,  99]], dtype=int64)"
      ]
     },
     "execution_count": 265,
     "metadata": {},
     "output_type": "execute_result"
    }
   ],
   "source": [
    "dataset=pd.read_csv('DataSemainSuivant.csv')\n",
    "NewData = dataset.iloc[:, [0, 1,2,3]].values\n",
    "NewData"
   ]
  },
  {
   "cell_type": "code",
   "execution_count": 266,
   "id": "ca44ec29",
   "metadata": {},
   "outputs": [],
   "source": [
    "CategorieNewData =[]\n",
    "for i in range(len(NewData)):\n",
    "    C=MindistanceManhaten(NewData[i,:],cluster_centers_) #ligne i apartient au cluster C\n",
    "    CategorieNewData.append([\"jour \"+str(i+1),CategoriesClusters[int(C)]])\n"
   ]
  },
  {
   "cell_type": "code",
   "execution_count": 267,
   "id": "8f9ffa04",
   "metadata": {},
   "outputs": [
    {
     "name": "stdout",
     "output_type": "stream",
     "text": [
      "['jour 1', ['Cluster N°2', 'chaud, smog et pluie acide']]\n",
      "['jour 2', ['Cluster N°2', 'chaud, smog et pluie acide']]\n",
      "['jour 3', ['Cluster N°2', 'chaud, smog et pluie acide']]\n",
      "['jour 4', ['Cluster N°2', 'chaud, smog et pluie acide']]\n",
      "['jour 5', ['Cluster N°0', 'chaud, smog et pluie acide']]\n",
      "['jour 6', ['Cluster N°2', 'chaud, smog et pluie acide']]\n",
      "['jour 7', ['Cluster N°0', 'chaud, smog et pluie acide']]\n"
     ]
    }
   ],
   "source": [
    "for ligne in CategorieNewData :\n",
    "    print(ligne)"
   ]
  },
  {
   "cell_type": "code",
   "execution_count": null,
   "id": "c9b6faaa",
   "metadata": {},
   "outputs": [],
   "source": []
  },
  {
   "cell_type": "code",
   "execution_count": null,
   "id": "d1f8c368",
   "metadata": {},
   "outputs": [],
   "source": []
  },
  {
   "cell_type": "code",
   "execution_count": null,
   "id": "21805b70",
   "metadata": {},
   "outputs": [],
   "source": []
  }
 ],
 "metadata": {
  "kernelspec": {
   "display_name": "Python 3 (ipykernel)",
   "language": "python",
   "name": "python3"
  },
  "language_info": {
   "codemirror_mode": {
    "name": "ipython",
    "version": 3
   },
   "file_extension": ".py",
   "mimetype": "text/x-python",
   "name": "python",
   "nbconvert_exporter": "python",
   "pygments_lexer": "ipython3",
   "version": "3.9.7"
  }
 },
 "nbformat": 4,
 "nbformat_minor": 5
}
